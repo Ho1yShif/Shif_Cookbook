{
 "cells": [
  {
   "cell_type": "markdown",
   "id": "59aa3295",
   "metadata": {},
   "source": [
    "# Title"
   ]
  },
  {
   "cell_type": "markdown",
   "id": "e25467cf",
   "metadata": {},
   "source": [
    "### Goals\n",
    "- Define achievable goals here"
   ]
  },
  {
   "cell_type": "markdown",
   "id": "4b68ff0d",
   "metadata": {},
   "source": [
    "### Data Sources\n",
    "- Document data sources with [links]()"
   ]
  },
  {
   "cell_type": "markdown",
   "id": "19ec0d84",
   "metadata": {},
   "source": [
    "## Setup and Library Imports"
   ]
  },
  {
   "cell_type": "code",
   "execution_count": null,
   "id": "10519775",
   "metadata": {},
   "outputs": [],
   "source": [
    "import numpy as np\n",
    "import pandas as pd\n",
    "from pandas import DataFrame\n",
    "import seaborn as sns\n",
    "import matplotlib\n",
    "from matplotlib import pyplot as plt\n",
    "%matplotlib inline\n",
    "# from sklearn.compose import TransformedTargetRegressor\n",
    "# from sklearn.preprocessing import MinMaxScaler\n",
    "# from sklearn.preprocessing import RobustScaler\n"
   ]
  },
  {
   "cell_type": "code",
   "execution_count": null,
   "id": "95a59bef",
   "metadata": {},
   "outputs": [],
   "source": [
    "# Display entire dataframe\n",
    "pd.set_option('display.max_rows', None)\n",
    "pd.set_option('display.max_columns', None)\n",
    "pd.set_option('display.width', None)"
   ]
  },
  {
   "cell_type": "code",
   "execution_count": null,
   "id": "72ed1b2c",
   "metadata": {},
   "outputs": [],
   "source": [
    "# Set matplotlib theme to match seaborn\n",
    "sns.set()"
   ]
  },
  {
   "cell_type": "code",
   "execution_count": null,
   "id": "003473d2-db4c-43ad-a2d6-59d05470439a",
   "metadata": {},
   "outputs": [],
   "source": [
    "# cd 'Correct file path'"
   ]
  },
  {
   "cell_type": "markdown",
   "id": "274a132e-3cc5-41fa-91ea-1f523e5b353d",
   "metadata": {},
   "source": [
    "### Load Data"
   ]
  },
  {
   "cell_type": "code",
   "execution_count": null,
   "id": "4bce1f0a-051c-4446-8e81-2199116506ca",
   "metadata": {
    "tags": []
   },
   "outputs": [],
   "source": [
    "df = pd.read_csv('path') #, index_col=0)\n",
    "df.head()"
   ]
  },
  {
   "cell_type": "markdown",
   "id": "03d06689",
   "metadata": {},
   "source": [
    "### Data Pre-Processing\n",
    "- Ensure columns are correctly named and formatted\n",
    "- Check data types and null values"
   ]
  },
  {
   "cell_type": "code",
   "execution_count": null,
   "id": "7f0c8e7c",
   "metadata": {},
   "outputs": [],
   "source": [
    "df.info()"
   ]
  },
  {
   "cell_type": "code",
   "execution_count": null,
   "id": "629c53a5",
   "metadata": {},
   "outputs": [],
   "source": [
    "df.isnull().sum()"
   ]
  },
  {
   "cell_type": "code",
   "execution_count": null,
   "id": "17404bb4",
   "metadata": {},
   "outputs": [],
   "source": [
    "# # Common pre-processing techniques\n",
    "# df.columns = df.columns.str.lower()\n",
    "# df.rename(columns={'old_col': 'new_col'})\n",
    "# df['col'] = pd.to_numeric(df['col'], downcast='integer')\n",
    "# df.astype({'col1': 'int32'})\n",
    "# df.replace('\\$', '', regex=True)"
   ]
  },
  {
   "cell_type": "code",
   "execution_count": null,
   "id": "bd330d5d",
   "metadata": {},
   "outputs": [],
   "source": [
    "# Export pre-processed data\n",
    "# df.to_csv('path')"
   ]
  },
  {
   "attachments": {},
   "cell_type": "markdown",
   "id": "f7f65f16",
   "metadata": {},
   "source": [
    "### Data Scaling"
   ]
  },
  {
   "attachments": {},
   "cell_type": "markdown",
   "id": "c0d96b9f",
   "metadata": {},
   "source": [
    "#### Why scale data?\n",
    "It helps your model identify patterns and helps you avoid errors that prevent your model from converging. This is especially important for regression tasks. Don't forget to scale your target variable in that situation!"
   ]
  },
  {
   "attachments": {},
   "cell_type": "markdown",
   "id": "8e0d1fcb",
   "metadata": {},
   "source": [
    "#### Classification / Non-Regression Tasks\n",
    "Use a scaler object for the numerical predictors <br>\n",
    "General Guidelines:\n",
    "- StandardScaler for a variable that follows a relatively normal distribution\n",
    "- RobustScaler for a variable whose quite median is different from its mean\n",
    "- MinMaxScaler to scale between 0 and 1\n",
    "<br>\n",
    "More information in this [article](https://towardsdatascience.com/scale-standardize-or-normalize-with-scikit-learn-6ccc7d176a02)"
   ]
  },
  {
   "cell_type": "code",
   "execution_count": null,
   "id": "2eafadb0",
   "metadata": {},
   "outputs": [],
   "source": [
    "# Classification Example with MinMaxScaler\n",
    "# scaled_data = MinMaxScaler().fit_transform(unscaled_data)\n",
    "# scaled_df = DataFrame(scaled_data, columns=unscaled_col_names_list)\n",
    "# scaled_df.head()"
   ]
  },
  {
   "attachments": {},
   "cell_type": "markdown",
   "id": "7b0bc2b2",
   "metadata": {},
   "source": [
    "#### Regression Tasks\n",
    "Things get complicated if you scale your data in one notebook and execute your model in another. You won't have the same object available to inverse transform your results. The cell below returns the target variable in inverse-scaled form so that you get it in the correct units <br>\n",
    "**Example:** If I'm looking to predict a dollar amount with Robust-Scaled data, I might get a result of 0.17 from my scaled model. I'll need to convert that to understand it in terms of dollars, but my scaler object is in a different notebook. <br>\n",
    "**TransformedTargetRegressor** can help us with that! See the [documentation](https://scikit-learn.org/stable/modules/compose.html#transforming-target-in-regression) here!"
   ]
  },
  {
   "cell_type": "code",
   "execution_count": null,
   "id": "70a4bf29",
   "metadata": {},
   "outputs": [],
   "source": [
    "# Regression Example with LinearReg() and RobustScaler()\n",
    "# reg = TransformedTargetRegressor(regressor=LinearRegression(),\n",
    "#                              transformer=RobustScaler())"
   ]
  },
  {
   "cell_type": "markdown",
   "id": "e57fc237",
   "metadata": {},
   "source": [
    "### Data Visualization\n",
    "- Histograms/Violin Plots for numerical distributions\n",
    "- Barplots for categorical distributions\n",
    "- Pairplots/scatterplots for related variables\n",
    "- Hues for categorical separation"
   ]
  },
  {
   "cell_type": "code",
   "execution_count": null,
   "id": "71cb7395",
   "metadata": {},
   "outputs": [],
   "source": [
    "# Separate columns into subsets\n",
    "numerical = []\n",
    "categorical = []\n",
    "target = []"
   ]
  },
  {
   "cell_type": "code",
   "execution_count": null,
   "id": "3622c8a4",
   "metadata": {},
   "outputs": [],
   "source": [
    "# Plot ideas\n",
    "sns.histplot(data=df, x = feature)\n",
    "sns.pairplot(numerical_subset1, kind = 'reg', hue='category')\n",
    "sns.relplot(x=\"valence\", y=\"loudness\", hue=\"mode\", data=df)\n",
    "sns.barplot(x='class', y='percent', hue = 'mode', data = df)\n",
    "sns.catplot(x='class', y=col, kind = 'violin', data = fob_songs)"
   ]
  },
  {
   "cell_type": "markdown",
   "id": "ba7b08c9",
   "metadata": {},
   "source": [
    "### Summary Data"
   ]
  },
  {
   "cell_type": "code",
   "execution_count": null,
   "id": "37dd5e46",
   "metadata": {},
   "outputs": [],
   "source": [
    "# Final check for null values\n",
    "df.isnull().sum().sum()"
   ]
  },
  {
   "cell_type": "markdown",
   "id": "5f803d88",
   "metadata": {},
   "source": [
    "### Correlational Analysis"
   ]
  },
  {
   "cell_type": "code",
   "execution_count": null,
   "id": "93d6b37a",
   "metadata": {},
   "outputs": [],
   "source": [
    "correlations = df.corr()\n",
    "correlations[abs(correlations) >= 0.5]"
   ]
  },
  {
   "cell_type": "code",
   "execution_count": null,
   "id": "be4fe089",
   "metadata": {
    "scrolled": true
   },
   "outputs": [],
   "source": [
    "df.describe()"
   ]
  },
  {
   "cell_type": "markdown",
   "id": "c6d3f741",
   "metadata": {},
   "source": [
    "### Conclusion\n",
    "- Did we achieve goals?\n",
    "- What insights did we discover?\n",
    "- What are the next steps?"
   ]
  }
 ],
 "metadata": {
  "kernelspec": {
   "display_name": "Python 3",
   "language": "python",
   "name": "python3"
  },
  "language_info": {
   "codemirror_mode": {
    "name": "ipython",
    "version": 3
   },
   "file_extension": ".py",
   "mimetype": "text/x-python",
   "name": "python",
   "nbconvert_exporter": "python",
   "pygments_lexer": "ipython3",
   "version": "3.9.13 (main, Aug 25 2022, 18:29:29) \n[Clang 12.0.0 ]"
  },
  "vscode": {
   "interpreter": {
    "hash": "fa8fba2ba956a6b92dce1f77645742a181fb84294b2aaeda6d92449f2e12b87a"
   }
  }
 },
 "nbformat": 4,
 "nbformat_minor": 5
}
