{
 "cells": [
  {
   "cell_type": "markdown",
   "id": "59aa3295",
   "metadata": {},
   "source": [
    "# Title"
   ]
  },
  {
   "cell_type": "markdown",
   "id": "19ec0d84",
   "metadata": {},
   "source": [
    "## Setup and Library Imports"
   ]
  },
  {
   "cell_type": "code",
   "execution_count": null,
   "id": "10519775",
   "metadata": {},
   "outputs": [],
   "source": [
    "import re\n",
    "import pandas as pd\n",
    "from pandas import DataFrame\n",
    "import numpy as np\n",
    "import matplotlib\n",
    "from matplotlib import pyplot as plt\n",
    "%matplotlib inline\n",
    "import seaborn as sns\n",
    "from collections import Counter\n",
    "from statsmodels.stats.weightstats import ztest as ztest"
   ]
  },
  {
   "cell_type": "code",
   "execution_count": null,
   "id": "95a59bef",
   "metadata": {},
   "outputs": [],
   "source": [
    "# Display entire dataframe\n",
    "pd.set_option('display.max_rows', None)\n",
    "pd.set_option('display.max_columns', None)\n",
    "pd.set_option('display.width', None)"
   ]
  },
  {
   "cell_type": "code",
   "execution_count": null,
   "id": "003473d2-db4c-43ad-a2d6-59d05470439a",
   "metadata": {},
   "outputs": [],
   "source": [
    "# cd 'Correct file path'"
   ]
  },
  {
   "cell_type": "markdown",
   "id": "274a132e-3cc5-41fa-91ea-1f523e5b353d",
   "metadata": {},
   "source": [
    "### Load Data"
   ]
  },
  {
   "cell_type": "code",
   "execution_count": null,
   "id": "4bce1f0a-051c-4446-8e81-2199116506ca",
   "metadata": {
    "tags": []
   },
   "outputs": [],
   "source": [
    "df = pd.read_csv('path') #, index_col=0)\n",
    "df.head()"
   ]
  },
  {
   "cell_type": "markdown",
   "id": "03d06689",
   "metadata": {},
   "source": [
    "### Data Pre-Processing\n",
    "- Ensure columns are correctly named and formatted\n",
    "- Check data types and null values"
   ]
  },
  {
   "cell_type": "code",
   "execution_count": null,
   "id": "7f0c8e7c",
   "metadata": {},
   "outputs": [],
   "source": [
    "df.info()"
   ]
  },
  {
   "cell_type": "code",
   "execution_count": null,
   "id": "629c53a5",
   "metadata": {},
   "outputs": [],
   "source": [
    "df.isnull().sum()"
   ]
  },
  {
   "cell_type": "code",
   "execution_count": null,
   "id": "17404bb4",
   "metadata": {},
   "outputs": [],
   "source": [
    "# # Common pre-processing techniques\n",
    "# df['col'] = pd.to_numeric(df['col'], downcast='integer')\n",
    "# df.astype({'col1': 'int32'})\n",
    "# df.columns = df.columns.replace(' ', '_')\n",
    "# df.replace('\\$', '', regex=True)"
   ]
  },
  {
   "cell_type": "markdown",
   "id": "e57fc237",
   "metadata": {},
   "source": [
    "### Data Visualization\n",
    "- Histograms/Violin Plots for numerical distributions\n",
    "- Barplots for categorical distributions\n",
    "- Pairplots/scatterplots for related variables\n",
    "- Hues for categorical separation"
   ]
  },
  {
   "cell_type": "code",
   "execution_count": null,
   "id": "71cb7395",
   "metadata": {},
   "outputs": [],
   "source": [
    "# Separate columns into subsets\n",
    "numerical = []\n",
    "categorical = []\n",
    "target = []"
   ]
  },
  {
   "cell_type": "code",
   "execution_count": null,
   "id": "3622c8a4",
   "metadata": {},
   "outputs": [],
   "source": [
    "# Plot ideas\n",
    "sns.histplot(data=df, x = feature)\n",
    "sns.pairplot(numerical_subset1, kind = 'reg', hue='category')\n",
    "sns.relplot(x=\"valence\", y=\"loudness\", hue=\"mode\", data=df)\n",
    "sns.barplot(x='class', y='percent', hue = 'mode', data = df)\n",
    "sns.catplot(x='class', y=col, kind = 'violin', data = fob_songs)"
   ]
  },
  {
   "cell_type": "markdown",
   "id": "ba7b08c9",
   "metadata": {},
   "source": [
    "### Summary Data"
   ]
  },
  {
   "cell_type": "code",
   "execution_count": null,
   "id": "37dd5e46",
   "metadata": {},
   "outputs": [],
   "source": [
    "# Final check for null values\n",
    "df.isnull().sum().sum()"
   ]
  },
  {
   "cell_type": "markdown",
   "id": "5f803d88",
   "metadata": {},
   "source": [
    "## Correlational Analysis"
   ]
  },
  {
   "cell_type": "code",
   "execution_count": null,
   "id": "93d6b37a",
   "metadata": {},
   "outputs": [],
   "source": [
    "correlations = df.corr()\n",
    "correlations[abs(correlations) >= 0.5]"
   ]
  },
  {
   "cell_type": "code",
   "execution_count": null,
   "id": "be4fe089",
   "metadata": {
    "scrolled": true
   },
   "outputs": [],
   "source": [
    "df.describe()"
   ]
  }
 ],
 "metadata": {
  "kernelspec": {
   "display_name": "Python 3",
   "language": "python",
   "name": "python3"
  },
  "language_info": {
   "codemirror_mode": {
    "name": "ipython",
    "version": 3
   },
   "file_extension": ".py",
   "mimetype": "text/x-python",
   "name": "python",
   "nbconvert_exporter": "python",
   "pygments_lexer": "ipython3",
   "version": "3.8.8"
  },
  "vscode": {
   "interpreter": {
    "hash": "fa8fba2ba956a6b92dce1f77645742a181fb84294b2aaeda6d92449f2e12b87a"
   }
  }
 },
 "nbformat": 4,
 "nbformat_minor": 5
}
